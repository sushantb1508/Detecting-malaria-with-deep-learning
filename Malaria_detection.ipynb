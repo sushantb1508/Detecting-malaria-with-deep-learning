{
 "cells": [
  {
   "cell_type": "markdown",
   "metadata": {},
   "source": [
    "# Creating Model using Transfer Learning"
   ]
  },
  {
   "cell_type": "code",
   "execution_count": null,
   "metadata": {
    "id": "DA99B4Hnxkp7"
   },
   "outputs": [],
   "source": [
    "# import the libraries as shown below\n",
    "\n",
    "from tensorflow.keras.layers import Input, Lambda, Dense, Flatten,Conv2D\n",
    "from tensorflow.keras.models import Model\n",
    "from tensorflow.keras.applications.vgg19 import VGG19\n",
    "from tensorflow.keras.applications.resnet50 import preprocess_input\n",
    "from tensorflow.keras.preprocessing import image\n",
    "from tensorflow.keras.preprocessing.image import ImageDataGenerator,load_img\n",
    "from tensorflow.keras.models import Sequential\n",
    "import numpy as np\n",
    "from glob import glob\n",
    "import matplotlib.pyplot as plt"
   ]
  },
  {
   "cell_type": "code",
   "execution_count": null,
   "metadata": {
    "id": "gzm4z1r7xneY"
   },
   "outputs": [],
   "source": [
    "# re-size all the images to this\n",
    "IMAGE_SIZE = [224, 224]\n",
    "\n",
    "train_path = '/content/drive/MyDrive/Colab Notebooks/Malaria_dataset/Train'\n",
    "valid_path = '/content/drive/MyDrive/Colab Notebooks/Malaria_dataset/Test'\n"
   ]
  },
  {
   "cell_type": "code",
   "execution_count": null,
   "metadata": {
    "colab": {
     "base_uri": "https://localhost:8080/"
    },
    "id": "kOc8s46Hxy1h",
    "outputId": "45f23d26-abaa-486d-a243-b68512b7ce6f"
   },
   "outputs": [
    {
     "name": "stdout",
     "output_type": "stream",
     "text": [
      "Downloading data from https://storage.googleapis.com/tensorflow/keras-applications/vgg19/vgg19_weights_tf_dim_ordering_tf_kernels_notop.h5\n",
      "80142336/80134624 [==============================] - 1s 0us/step\n"
     ]
    }
   ],
   "source": [
    "# Import the Vgg 16 library as shown below and add preprocessing layer to the front of VGG\n",
    "# Here we will be using imagenet weights\n",
    "\n",
    "mobilnet = VGG19(input_shape=IMAGE_SIZE + [3], weights='imagenet', include_top=False)\n",
    "\n",
    "\n"
   ]
  },
  {
   "cell_type": "code",
   "execution_count": null,
   "metadata": {
    "id": "IlrnTdkyx3GQ"
   },
   "outputs": [],
   "source": [
    "# don't train existing weights\n",
    "for layer in mobilnet.layers:\n",
    "    layer.trainable = False"
   ]
  },
  {
   "cell_type": "code",
   "execution_count": null,
   "metadata": {
    "id": "3aKAKtDox-Eu"
   },
   "outputs": [],
   "source": [
    "# don't train existing weights\n",
    "for layer in mobilnet.layers:\n",
    "    layer.trainable = False"
   ]
  },
  {
   "cell_type": "code",
   "execution_count": null,
   "metadata": {
    "id": "NuI_QqD9yyye"
   },
   "outputs": [],
   "source": [
    "  # useful for getting number of output classes\n",
    "folders = glob('/content/drive/MyDrive/Colab Notebooks/Malaria_dataset/*')"
   ]
  },
  {
   "cell_type": "code",
   "execution_count": null,
   "metadata": {
    "colab": {
     "base_uri": "https://localhost:8080/"
    },
    "id": "8VG5D1cEx-li",
    "outputId": "b025e117-db16-474a-fb54-1e99c2cbbdf3"
   },
   "outputs": [
    {
     "data": {
      "text/plain": [
       "2"
      ]
     },
     "execution_count": 14,
     "metadata": {
      "tags": []
     },
     "output_type": "execute_result"
    }
   ],
   "source": [
    "len(folders)"
   ]
  },
  {
   "cell_type": "code",
   "execution_count": null,
   "metadata": {
    "id": "3Mvb7q42x_UN"
   },
   "outputs": [],
   "source": [
    "# our layers - you can add more if you want\n",
    "x = Flatten()(mobilnet.output)"
   ]
  },
  {
   "cell_type": "code",
   "execution_count": null,
   "metadata": {
    "id": "QMV4sze-yFdO"
   },
   "outputs": [],
   "source": [
    "prediction = Dense(len(folders), activation='softmax')(x)\n",
    "\n",
    "# create a model object\n",
    "model = Model(inputs=mobilnet.input, outputs=prediction)"
   ]
  },
  {
   "cell_type": "code",
   "execution_count": null,
   "metadata": {
    "colab": {
     "base_uri": "https://localhost:8080/"
    },
    "id": "aQZ_6WTGyJNj",
    "outputId": "3d4aab24-5c57-46d8-fcf8-00a3499d744c"
   },
   "outputs": [
    {
     "name": "stdout",
     "output_type": "stream",
     "text": [
      "Model: \"model\"\n",
      "_________________________________________________________________\n",
      "Layer (type)                 Output Shape              Param #   \n",
      "=================================================================\n",
      "input_1 (InputLayer)         [(None, 224, 224, 3)]     0         \n",
      "_________________________________________________________________\n",
      "block1_conv1 (Conv2D)        (None, 224, 224, 64)      1792      \n",
      "_________________________________________________________________\n",
      "block1_conv2 (Conv2D)        (None, 224, 224, 64)      36928     \n",
      "_________________________________________________________________\n",
      "block1_pool (MaxPooling2D)   (None, 112, 112, 64)      0         \n",
      "_________________________________________________________________\n",
      "block2_conv1 (Conv2D)        (None, 112, 112, 128)     73856     \n",
      "_________________________________________________________________\n",
      "block2_conv2 (Conv2D)        (None, 112, 112, 128)     147584    \n",
      "_________________________________________________________________\n",
      "block2_pool (MaxPooling2D)   (None, 56, 56, 128)       0         \n",
      "_________________________________________________________________\n",
      "block3_conv1 (Conv2D)        (None, 56, 56, 256)       295168    \n",
      "_________________________________________________________________\n",
      "block3_conv2 (Conv2D)        (None, 56, 56, 256)       590080    \n",
      "_________________________________________________________________\n",
      "block3_conv3 (Conv2D)        (None, 56, 56, 256)       590080    \n",
      "_________________________________________________________________\n",
      "block3_conv4 (Conv2D)        (None, 56, 56, 256)       590080    \n",
      "_________________________________________________________________\n",
      "block3_pool (MaxPooling2D)   (None, 28, 28, 256)       0         \n",
      "_________________________________________________________________\n",
      "block4_conv1 (Conv2D)        (None, 28, 28, 512)       1180160   \n",
      "_________________________________________________________________\n",
      "block4_conv2 (Conv2D)        (None, 28, 28, 512)       2359808   \n",
      "_________________________________________________________________\n",
      "block4_conv3 (Conv2D)        (None, 28, 28, 512)       2359808   \n",
      "_________________________________________________________________\n",
      "block4_conv4 (Conv2D)        (None, 28, 28, 512)       2359808   \n",
      "_________________________________________________________________\n",
      "block4_pool (MaxPooling2D)   (None, 14, 14, 512)       0         \n",
      "_________________________________________________________________\n",
      "block5_conv1 (Conv2D)        (None, 14, 14, 512)       2359808   \n",
      "_________________________________________________________________\n",
      "block5_conv2 (Conv2D)        (None, 14, 14, 512)       2359808   \n",
      "_________________________________________________________________\n",
      "block5_conv3 (Conv2D)        (None, 14, 14, 512)       2359808   \n",
      "_________________________________________________________________\n",
      "block5_conv4 (Conv2D)        (None, 14, 14, 512)       2359808   \n",
      "_________________________________________________________________\n",
      "block5_pool (MaxPooling2D)   (None, 7, 7, 512)         0         \n",
      "_________________________________________________________________\n",
      "flatten (Flatten)            (None, 25088)             0         \n",
      "_________________________________________________________________\n",
      "dense (Dense)                (None, 2)                 50178     \n",
      "=================================================================\n",
      "Total params: 20,074,562\n",
      "Trainable params: 50,178\n",
      "Non-trainable params: 20,024,384\n",
      "_________________________________________________________________\n"
     ]
    }
   ],
   "source": [
    "\n",
    "# view the structure of the model\n",
    "model.summary()\n"
   ]
  },
  {
   "cell_type": "code",
   "execution_count": null,
   "metadata": {
    "id": "SZs9ehQYyJnP"
   },
   "outputs": [],
   "source": [
    "from tensorflow.keras.layers import MaxPooling2D"
   ]
  },
  {
   "cell_type": "code",
   "execution_count": null,
   "metadata": {
    "colab": {
     "base_uri": "https://localhost:8080/"
    },
    "id": "92daEM3vyKI9",
    "outputId": "0610f4c4-7726-42e4-8e0b-d3e135d9da90"
   },
   "outputs": [
    {
     "name": "stdout",
     "output_type": "stream",
     "text": [
      "Model: \"sequential\"\n",
      "_________________________________________________________________\n",
      "Layer (type)                 Output Shape              Param #   \n",
      "=================================================================\n",
      "conv2d (Conv2D)              (None, 224, 224, 16)      208       \n",
      "_________________________________________________________________\n",
      "max_pooling2d (MaxPooling2D) (None, 112, 112, 16)      0         \n",
      "_________________________________________________________________\n",
      "conv2d_1 (Conv2D)            (None, 112, 112, 32)      2080      \n",
      "_________________________________________________________________\n",
      "max_pooling2d_1 (MaxPooling2 (None, 56, 56, 32)        0         \n",
      "_________________________________________________________________\n",
      "conv2d_2 (Conv2D)            (None, 56, 56, 64)        8256      \n",
      "_________________________________________________________________\n",
      "max_pooling2d_2 (MaxPooling2 (None, 28, 28, 64)        0         \n",
      "_________________________________________________________________\n",
      "flatten_1 (Flatten)          (None, 50176)             0         \n",
      "_________________________________________________________________\n",
      "dense_1 (Dense)              (None, 500)               25088500  \n",
      "_________________________________________________________________\n",
      "dense_2 (Dense)              (None, 2)                 1002      \n",
      "=================================================================\n",
      "Total params: 25,100,046\n",
      "Trainable params: 25,100,046\n",
      "Non-trainable params: 0\n",
      "_________________________________________________________________\n"
     ]
    }
   ],
   "source": [
    "### Create Model from scratch using CNN\n",
    "model=Sequential()\n",
    "model.add(Conv2D(filters=16,kernel_size=2,padding=\"same\",activation=\"relu\",input_shape=(224,224,3)))\n",
    "model.add(MaxPooling2D(pool_size=2))\n",
    "model.add(Conv2D(filters=32,kernel_size=2,padding=\"same\",activation =\"relu\"))\n",
    "model.add(MaxPooling2D(pool_size=2))\n",
    "model.add(Conv2D(filters=64,kernel_size=2,padding=\"same\",activation=\"relu\"))\n",
    "model.add(MaxPooling2D(pool_size=2))\n",
    "model.add(Flatten())\n",
    "model.add(Dense(500,activation=\"relu\"))\n",
    "model.add(Dense(2,activation=\"softmax\"))\n",
    "model.summary()"
   ]
  },
  {
   "cell_type": "code",
   "execution_count": null,
   "metadata": {
    "id": "VJq0uGW5yVsx"
   },
   "outputs": [],
   "source": [
    "# tell the model what cost and optimization method to use\n",
    "model.compile(\n",
    "  loss='categorical_crossentropy',\n",
    "  optimizer='adam',\n",
    "  metrics=['accuracy']\n",
    ")\n"
   ]
  },
  {
   "cell_type": "code",
   "execution_count": null,
   "metadata": {
    "id": "wAA5eNE4zM2D"
   },
   "outputs": [],
   "source": [
    "# Use the Image Data Generator to import the images from the dataset\n",
    "from tensorflow.keras.preprocessing.image import ImageDataGenerator\n",
    "\n",
    "train_datagen = ImageDataGenerator(rescale = 1./255,\n",
    "                                   shear_range = 0.2,\n",
    "                                   zoom_range = 0.2,\n",
    "                                   horizontal_flip = True)\n",
    "\n",
    "test_datagen = ImageDataGenerator(rescale = 1./255)"
   ]
  },
  {
   "cell_type": "code",
   "execution_count": null,
   "metadata": {
    "colab": {
     "base_uri": "https://localhost:8080/"
    },
    "id": "2xgP4XojzQGN",
    "outputId": "997341ff-e3e1-4336-f2b1-8ceb8fe3155e"
   },
   "outputs": [
    {
     "name": "stdout",
     "output_type": "stream",
     "text": [
      "Found 416 images belonging to 2 classes.\n"
     ]
    }
   ],
   "source": [
    "# Make sure you provide the same target size as initialied for the image size\n",
    "training_set = train_datagen.flow_from_directory('/content/drive/MyDrive/Colab Notebooks/Malaria_dataset/Train',\n",
    "                                                 target_size = (224, 224),\n",
    "                                                 batch_size = 32,\n",
    "                                                 class_mode = 'categorical')"
   ]
  },
  {
   "cell_type": "code",
   "execution_count": null,
   "metadata": {
    "colab": {
     "base_uri": "https://localhost:8080/"
    },
    "id": "hdELYYaAzSAA",
    "outputId": "f672b3ea-6357-48ca-b2a3-dc4e39676dcb"
   },
   "outputs": [
    {
     "data": {
      "text/plain": [
       "<tensorflow.python.keras.preprocessing.image.DirectoryIterator at 0x7f16a00abfd0>"
      ]
     },
     "execution_count": 24,
     "metadata": {
      "tags": []
     },
     "output_type": "execute_result"
    }
   ],
   "source": [
    "training_set"
   ]
  },
  {
   "cell_type": "code",
   "execution_count": null,
   "metadata": {
    "colab": {
     "base_uri": "https://localhost:8080/"
    },
    "id": "hP6aLnv9zdES",
    "outputId": "b2849a1a-49c6-4a5e-b024-577fa6638c02"
   },
   "outputs": [
    {
     "name": "stdout",
     "output_type": "stream",
     "text": [
      "Found 134 images belonging to 2 classes.\n"
     ]
    }
   ],
   "source": [
    "test_set = test_datagen.flow_from_directory('/content/drive/MyDrive/Colab Notebooks/Malaria_dataset/Test',\n",
    "                                            target_size = (224, 224),\n",
    "                                            batch_size = 32,\n",
    "                                            class_mode = 'categorical')"
   ]
  },
  {
   "cell_type": "code",
   "execution_count": null,
   "metadata": {
    "colab": {
     "base_uri": "https://localhost:8080/"
    },
    "id": "iFARokTmzmPF",
    "outputId": "e2cc8b23-1ca1-4564-f2a1-c677c650fb3b"
   },
   "outputs": [
    {
     "name": "stderr",
     "output_type": "stream",
     "text": [
      "/usr/local/lib/python3.7/dist-packages/tensorflow/python/keras/engine/training.py:1940: UserWarning: `Model.fit_generator` is deprecated and will be removed in a future version. Please use `Model.fit`, which supports generators.\n",
      "  warnings.warn('`Model.fit_generator` is deprecated and '\n"
     ]
    },
    {
     "name": "stdout",
     "output_type": "stream",
     "text": [
      "Epoch 1/50\n",
      "13/13 [==============================] - 173s 11s/step - loss: 2.4816 - accuracy: 0.5529 - val_loss: 0.6485 - val_accuracy: 0.6791\n",
      "Epoch 2/50\n",
      "13/13 [==============================] - 5s 381ms/step - loss: 0.6856 - accuracy: 0.5793 - val_loss: 0.6724 - val_accuracy: 0.6716\n",
      "Epoch 3/50\n",
      "13/13 [==============================] - 5s 387ms/step - loss: 0.6131 - accuracy: 0.6442 - val_loss: 0.7199 - val_accuracy: 0.4851\n",
      "Epoch 4/50\n",
      "13/13 [==============================] - 5s 390ms/step - loss: 0.5129 - accuracy: 0.7284 - val_loss: 0.8274 - val_accuracy: 0.4328\n",
      "Epoch 5/50\n",
      "13/13 [==============================] - 5s 383ms/step - loss: 0.6139 - accuracy: 0.6851 - val_loss: 0.7167 - val_accuracy: 0.6791\n",
      "Epoch 6/50\n",
      "13/13 [==============================] - 5s 380ms/step - loss: 0.6231 - accuracy: 0.6899 - val_loss: 0.7944 - val_accuracy: 0.5597\n",
      "Epoch 7/50\n",
      "13/13 [==============================] - 5s 378ms/step - loss: 0.5839 - accuracy: 0.6635 - val_loss: 0.7782 - val_accuracy: 0.3731\n",
      "Epoch 8/50\n",
      "13/13 [==============================] - 5s 378ms/step - loss: 0.5205 - accuracy: 0.7548 - val_loss: 0.7254 - val_accuracy: 0.4254\n",
      "Epoch 9/50\n",
      "13/13 [==============================] - 5s 378ms/step - loss: 0.4671 - accuracy: 0.7837 - val_loss: 0.9860 - val_accuracy: 0.3955\n",
      "Epoch 10/50\n",
      "13/13 [==============================] - 5s 377ms/step - loss: 0.4387 - accuracy: 0.7837 - val_loss: 0.8900 - val_accuracy: 0.4627\n",
      "Epoch 11/50\n",
      "13/13 [==============================] - 5s 386ms/step - loss: 0.4609 - accuracy: 0.7764 - val_loss: 0.8580 - val_accuracy: 0.4403\n",
      "Epoch 12/50\n",
      "13/13 [==============================] - 5s 380ms/step - loss: 0.4076 - accuracy: 0.8221 - val_loss: 0.9098 - val_accuracy: 0.3806\n",
      "Epoch 13/50\n",
      "13/13 [==============================] - 5s 381ms/step - loss: 0.4185 - accuracy: 0.7837 - val_loss: 1.0803 - val_accuracy: 0.4104\n",
      "Epoch 14/50\n",
      "13/13 [==============================] - 5s 378ms/step - loss: 0.3856 - accuracy: 0.8149 - val_loss: 0.6543 - val_accuracy: 0.5522\n",
      "Epoch 15/50\n",
      "13/13 [==============================] - 5s 382ms/step - loss: 0.3426 - accuracy: 0.8654 - val_loss: 0.8572 - val_accuracy: 0.5746\n",
      "Epoch 16/50\n",
      "13/13 [==============================] - 5s 376ms/step - loss: 0.3132 - accuracy: 0.8822 - val_loss: 0.9276 - val_accuracy: 0.5597\n",
      "Epoch 17/50\n",
      "13/13 [==============================] - 5s 379ms/step - loss: 0.3269 - accuracy: 0.8510 - val_loss: 0.6122 - val_accuracy: 0.6493\n",
      "Epoch 18/50\n",
      "13/13 [==============================] - 5s 376ms/step - loss: 0.2940 - accuracy: 0.8702 - val_loss: 0.5542 - val_accuracy: 0.7239\n",
      "Epoch 19/50\n",
      "13/13 [==============================] - 5s 381ms/step - loss: 0.2677 - accuracy: 0.8942 - val_loss: 0.6013 - val_accuracy: 0.6791\n",
      "Epoch 20/50\n",
      "13/13 [==============================] - 5s 378ms/step - loss: 0.2574 - accuracy: 0.8942 - val_loss: 0.6243 - val_accuracy: 0.6642\n",
      "Epoch 21/50\n",
      "13/13 [==============================] - 5s 379ms/step - loss: 0.3101 - accuracy: 0.8942 - val_loss: 0.5027 - val_accuracy: 0.7537\n",
      "Epoch 22/50\n",
      "13/13 [==============================] - 5s 410ms/step - loss: 0.2747 - accuracy: 0.9062 - val_loss: 0.4108 - val_accuracy: 0.7985\n",
      "Epoch 23/50\n",
      "13/13 [==============================] - 5s 382ms/step - loss: 0.1965 - accuracy: 0.9207 - val_loss: 0.4122 - val_accuracy: 0.8134\n",
      "Epoch 24/50\n",
      "13/13 [==============================] - 5s 386ms/step - loss: 0.1772 - accuracy: 0.9519 - val_loss: 0.4151 - val_accuracy: 0.7985\n",
      "Epoch 25/50\n",
      "13/13 [==============================] - 5s 380ms/step - loss: 0.1438 - accuracy: 0.9567 - val_loss: 0.5171 - val_accuracy: 0.7910\n",
      "Epoch 26/50\n",
      "13/13 [==============================] - 5s 378ms/step - loss: 0.1467 - accuracy: 0.9495 - val_loss: 0.3265 - val_accuracy: 0.8209\n",
      "Epoch 27/50\n",
      "13/13 [==============================] - 5s 382ms/step - loss: 0.1069 - accuracy: 0.9567 - val_loss: 0.4688 - val_accuracy: 0.8060\n",
      "Epoch 28/50\n",
      "13/13 [==============================] - 5s 378ms/step - loss: 0.1262 - accuracy: 0.9615 - val_loss: 0.4311 - val_accuracy: 0.8060\n",
      "Epoch 29/50\n",
      "13/13 [==============================] - 5s 377ms/step - loss: 0.1250 - accuracy: 0.9591 - val_loss: 0.5671 - val_accuracy: 0.8060\n",
      "Epoch 30/50\n",
      "13/13 [==============================] - 5s 378ms/step - loss: 0.1299 - accuracy: 0.9567 - val_loss: 0.3726 - val_accuracy: 0.8284\n",
      "Epoch 31/50\n",
      "13/13 [==============================] - 5s 383ms/step - loss: 0.1189 - accuracy: 0.9712 - val_loss: 0.3447 - val_accuracy: 0.8284\n",
      "Epoch 32/50\n",
      "13/13 [==============================] - 5s 377ms/step - loss: 0.1065 - accuracy: 0.9712 - val_loss: 0.4279 - val_accuracy: 0.8284\n",
      "Epoch 33/50\n",
      "13/13 [==============================] - 5s 377ms/step - loss: 0.1003 - accuracy: 0.9663 - val_loss: 0.4095 - val_accuracy: 0.8433\n",
      "Epoch 34/50\n",
      "13/13 [==============================] - 5s 380ms/step - loss: 0.0826 - accuracy: 0.9688 - val_loss: 0.3759 - val_accuracy: 0.8433\n",
      "Epoch 35/50\n",
      "13/13 [==============================] - 5s 377ms/step - loss: 0.0859 - accuracy: 0.9784 - val_loss: 0.5596 - val_accuracy: 0.8209\n",
      "Epoch 36/50\n",
      "13/13 [==============================] - 5s 378ms/step - loss: 0.1148 - accuracy: 0.9663 - val_loss: 0.5523 - val_accuracy: 0.8134\n",
      "Epoch 37/50\n",
      "13/13 [==============================] - 5s 383ms/step - loss: 0.1094 - accuracy: 0.9712 - val_loss: 0.4755 - val_accuracy: 0.8358\n",
      "Epoch 38/50\n",
      "13/13 [==============================] - 5s 386ms/step - loss: 0.0867 - accuracy: 0.9712 - val_loss: 0.3870 - val_accuracy: 0.8507\n",
      "Epoch 39/50\n",
      "13/13 [==============================] - 5s 391ms/step - loss: 0.1176 - accuracy: 0.9615 - val_loss: 0.2852 - val_accuracy: 0.8507\n",
      "Epoch 40/50\n",
      "13/13 [==============================] - 5s 378ms/step - loss: 0.0862 - accuracy: 0.9663 - val_loss: 0.3089 - val_accuracy: 0.8806\n",
      "Epoch 41/50\n",
      "13/13 [==============================] - 5s 375ms/step - loss: 0.1061 - accuracy: 0.9567 - val_loss: 0.4535 - val_accuracy: 0.8134\n",
      "Epoch 42/50\n",
      "13/13 [==============================] - 5s 379ms/step - loss: 0.1293 - accuracy: 0.9543 - val_loss: 0.4096 - val_accuracy: 0.8358\n",
      "Epoch 43/50\n",
      "13/13 [==============================] - 5s 383ms/step - loss: 0.1031 - accuracy: 0.9639 - val_loss: 0.2934 - val_accuracy: 0.8731\n",
      "Epoch 44/50\n",
      "13/13 [==============================] - 5s 381ms/step - loss: 0.0727 - accuracy: 0.9832 - val_loss: 0.2578 - val_accuracy: 0.9030\n",
      "Epoch 45/50\n",
      "13/13 [==============================] - 5s 379ms/step - loss: 0.0838 - accuracy: 0.9784 - val_loss: 0.3045 - val_accuracy: 0.8582\n",
      "Epoch 46/50\n",
      "13/13 [==============================] - 5s 375ms/step - loss: 0.0637 - accuracy: 0.9784 - val_loss: 0.1919 - val_accuracy: 0.9179\n",
      "Epoch 47/50\n",
      "13/13 [==============================] - 5s 377ms/step - loss: 0.0576 - accuracy: 0.9808 - val_loss: 0.4206 - val_accuracy: 0.8582\n",
      "Epoch 48/50\n",
      "13/13 [==============================] - 5s 378ms/step - loss: 0.0786 - accuracy: 0.9736 - val_loss: 0.5795 - val_accuracy: 0.8284\n",
      "Epoch 49/50\n",
      "13/13 [==============================] - 5s 378ms/step - loss: 0.1622 - accuracy: 0.9399 - val_loss: 0.3836 - val_accuracy: 0.8582\n",
      "Epoch 50/50\n",
      "13/13 [==============================] - 5s 376ms/step - loss: 0.1391 - accuracy: 0.9615 - val_loss: 0.3075 - val_accuracy: 0.8582\n"
     ]
    }
   ],
   "source": [
    "# fit the model\n",
    "# Run the cell. It will take some time to execute\n",
    "r = model.fit_generator(\n",
    "  training_set,\n",
    "  validation_data=test_set,\n",
    "  epochs=50,\n",
    "  steps_per_epoch=len(training_set),\n",
    "  validation_steps=len(test_set)\n",
    ")"
   ]
  },
  {
   "cell_type": "code",
   "execution_count": null,
   "metadata": {
    "colab": {
     "base_uri": "https://localhost:8080/",
     "height": 531
    },
    "id": "RxokO2m3zpX1",
    "outputId": "a2b01d83-6f8e-4360-ac40-26d27e3525c8"
   },
   "outputs": [
    {
     "data": {
      "image/png": "[encoded data removed]",
      "text/plain": [
       "<Figure size 432x288 with 1 Axes>"
      ]
     },
     "metadata": {
      "needs_background": "light",
      "tags": []
     },
     "output_type": "display_data"
    },
    {
     "data": {
      "image/png": "[encoded data removed]",
      "text/plain": [
       "<Figure size 432x288 with 1 Axes>"
      ]
     },
     "metadata": {
      "needs_background": "light",
      "tags": []
     },
     "output_type": "display_data"
    },
    {
     "data": {
      "text/plain": [
       "<Figure size 432x288 with 0 Axes>"
      ]
     },
     "metadata": {
      "tags": []
     },
     "output_type": "display_data"
    }
   ],
   "source": [
    "# plot the loss\n",
    "plt.plot(r.history['loss'], label='train loss')\n",
    "plt.plot(r.history['val_loss'], label='val loss')\n",
    "plt.legend()\n",
    "plt.show()\n",
    "plt.savefig('LossVal_loss')\n",
    "\n",
    "# plot the accuracy\n",
    "plt.plot(r.history['accuracy'], label='train acc')\n",
    "plt.plot(r.history['val_accuracy'], label='val acc')\n",
    "plt.legend()\n",
    "plt.show()\n",
    "plt.savefig('AccVal_acc')"
   ]
  },
  {
   "cell_type": "code",
   "execution_count": 64,
   "metadata": {
    "colab": {
     "base_uri": "https://localhost:8080/"
    },
    "id": "d4I29Dkz1-am",
    "outputId": "cad6d28c-88be-4fb1-e73a-de7ab0afb3ff"
   },
   "outputs": [
    {
     "name": "stdout",
     "output_type": "stream",
     "text": [
      "[INFO] saving mask detector model...\n"
     ]
    }
   ],
   "source": [
    "# save it as a h5 file\n",
    "\n",
    "\n",
    "\n",
    "# serialize the model to disk\n",
    "print(\"[INFO] saving mask detector model...\")\n",
    "model.save(\"Malaria.model\", save_format=\"h5\")"
   ]
  },
  {
   "cell_type": "code",
   "execution_count": null,
   "metadata": {
    "id": "M3B2PcbC2D12"
   },
   "outputs": [],
   "source": [
    "\n",
    "y_pred = model.predict(test_set)\n"
   ]
  },
  {
   "cell_type": "code",
   "execution_count": null,
   "metadata": {
    "colab": {
     "base_uri": "https://localhost:8080/"
    },
    "id": "7m-8tJkt2HPa",
    "outputId": "25e409b2-e8bb-4eb0-c636-d5a8627dfc96"
   },
   "outputs": [
    {
     "data": {
      "text/plain": [
       "array([[9.9746966e-01, 2.5303105e-03],\n",
       "       [9.9999809e-01, 1.9656577e-06],\n",
       "       [6.0003124e-02, 9.3999684e-01],\n",
       "       [5.1470470e-02, 9.4852948e-01],\n",
       "       [3.7844360e-02, 9.6215564e-01],\n",
       "       [9.7543441e-02, 9.0245658e-01],\n",
       "       [4.5949399e-02, 9.5405060e-01],\n",
       "       [9.9496055e-01, 5.0394936e-03],\n",
       "       [9.1794550e-01, 8.2054570e-02],\n",
       "       [9.9480516e-01, 5.1948335e-03],\n",
       "       [1.2280787e-01, 8.7719214e-01],\n",
       "       [4.0956624e-02, 9.5904344e-01],\n",
       "       [4.0827457e-02, 9.5917249e-01],\n",
       "       [9.5491070e-01, 4.5089304e-02],\n",
       "       [1.3485643e-01, 8.6514360e-01],\n",
       "       [1.0000000e+00, 6.7884804e-09],\n",
       "       [9.9909604e-01, 9.0394064e-04],\n",
       "       [5.7327744e-02, 9.4267219e-01],\n",
       "       [1.5613961e-01, 8.4386045e-01],\n",
       "       [3.9769182e-01, 6.0230821e-01],\n",
       "       [9.9999988e-01, 8.3632067e-08],\n",
       "       [4.2173955e-01, 5.7826042e-01],\n",
       "       [9.9982929e-01, 1.7068666e-04],\n",
       "       [9.2712289e-01, 7.2877072e-02],\n",
       "       [1.0000000e+00, 2.0891199e-17],\n",
       "       [9.9724138e-01, 2.7586245e-03],\n",
       "       [1.7437255e-01, 8.2562751e-01],\n",
       "       [2.0657547e-01, 7.9342455e-01],\n",
       "       [9.9875116e-01, 1.2488759e-03],\n",
       "       [1.0000000e+00, 2.0605169e-09],\n",
       "       [1.0423549e-01, 8.9576453e-01],\n",
       "       [6.9341771e-02, 9.3065822e-01],\n",
       "       [9.4428994e-02, 9.0557092e-01],\n",
       "       [8.5592844e-02, 9.1440719e-01],\n",
       "       [9.9436790e-01, 5.6320615e-03],\n",
       "       [9.9981695e-01, 1.8310940e-04],\n",
       "       [9.9559128e-01, 4.4087195e-03],\n",
       "       [1.4832214e-01, 8.5167789e-01],\n",
       "       [9.9996042e-01, 3.9551967e-05],\n",
       "       [3.6009133e-02, 9.6399087e-01],\n",
       "       [1.0000000e+00, 1.8034344e-08],\n",
       "       [5.8027856e-02, 9.4197220e-01],\n",
       "       [9.9729627e-01, 2.7037738e-03],\n",
       "       [4.1664939e-02, 9.5833510e-01],\n",
       "       [4.5391366e-02, 9.5460862e-01],\n",
       "       [9.9940932e-01, 5.9066142e-04],\n",
       "       [2.2236554e-02, 9.7776341e-01],\n",
       "       [4.3553218e-02, 9.5644677e-01],\n",
       "       [9.9672568e-01, 3.2743239e-03],\n",
       "       [9.9923062e-01, 7.6939119e-04],\n",
       "       [9.9996150e-01, 3.8557238e-05],\n",
       "       [9.9999857e-01, 1.3947275e-06],\n",
       "       [9.9999774e-01, 2.2787042e-06],\n",
       "       [1.0000000e+00, 2.9393939e-11],\n",
       "       [9.9515295e-01, 4.8470702e-03],\n",
       "       [9.9588352e-01, 4.1164514e-03],\n",
       "       [1.0000000e+00, 6.7515757e-09],\n",
       "       [2.5345590e-02, 9.7465444e-01],\n",
       "       [4.5927867e-01, 5.4072136e-01],\n",
       "       [1.9962247e-01, 8.0037755e-01],\n",
       "       [9.9675000e-01, 3.2500515e-03],\n",
       "       [4.2140272e-02, 9.5785975e-01],\n",
       "       [9.9998581e-01, 1.4244393e-05],\n",
       "       [4.1158304e-01, 5.8841693e-01],\n",
       "       [3.8074306e-01, 6.1925691e-01],\n",
       "       [9.8627186e-01, 1.3728174e-02],\n",
       "       [1.7869912e-01, 8.2130092e-01],\n",
       "       [4.1831829e-02, 9.5816815e-01],\n",
       "       [3.8947588e-01, 6.1052412e-01],\n",
       "       [1.3469221e-01, 8.6530781e-01],\n",
       "       [9.9481428e-01, 5.1857359e-03],\n",
       "       [9.9987459e-01, 1.2535162e-04],\n",
       "       [1.0000000e+00, 3.9089358e-09],\n",
       "       [9.0721406e-02, 9.0927863e-01],\n",
       "       [9.9974567e-01, 2.5437024e-04],\n",
       "       [4.0070329e-02, 9.5992965e-01],\n",
       "       [8.8933998e-01, 1.1066002e-01],\n",
       "       [9.8637903e-01, 1.3620976e-02],\n",
       "       [9.7591567e-01, 2.4084298e-02],\n",
       "       [1.0000000e+00, 1.3115017e-09],\n",
       "       [9.9999499e-01, 5.0435306e-06],\n",
       "       [1.4142533e-01, 8.5857469e-01],\n",
       "       [9.9996650e-01, 3.3485769e-05],\n",
       "       [6.8627387e-02, 9.3137264e-01],\n",
       "       [9.9992120e-01, 7.8804442e-05],\n",
       "       [2.5674656e-02, 9.7432536e-01],\n",
       "       [1.0000000e+00, 1.2217063e-08],\n",
       "       [4.8669439e-02, 9.5133054e-01],\n",
       "       [3.6660868e-01, 6.3339132e-01],\n",
       "       [8.9374745e-01, 1.0625261e-01],\n",
       "       [8.4903456e-02, 9.1509658e-01],\n",
       "       [2.7116525e-01, 7.2883475e-01],\n",
       "       [5.7393026e-01, 4.2606971e-01],\n",
       "       [9.9994373e-01, 5.6213528e-05],\n",
       "       [9.5908664e-02, 9.0409136e-01],\n",
       "       [9.9970561e-01, 2.9431918e-04],\n",
       "       [2.1138334e-01, 7.8861660e-01],\n",
       "       [9.9999964e-01, 3.2991201e-07],\n",
       "       [9.9999988e-01, 8.2748890e-08],\n",
       "       [1.9909869e-01, 8.0090129e-01],\n",
       "       [9.9998021e-01, 1.9752184e-05],\n",
       "       [9.9993694e-01, 6.3094332e-05],\n",
       "       [9.9999952e-01, 4.8171910e-07],\n",
       "       [9.4373561e-02, 9.0562648e-01],\n",
       "       [9.2338610e-01, 7.6613910e-02],\n",
       "       [5.5449471e-02, 9.4455051e-01],\n",
       "       [1.0000000e+00, 1.1468092e-12],\n",
       "       [9.9616098e-01, 3.8390027e-03],\n",
       "       [9.9960464e-01, 3.9539102e-04],\n",
       "       [3.5262395e-02, 9.6473765e-01],\n",
       "       [9.0247050e-02, 9.0975291e-01],\n",
       "       [9.9997354e-01, 2.6462920e-05],\n",
       "       [1.0000000e+00, 4.2842420e-17],\n",
       "       [3.6007479e-02, 9.6399254e-01],\n",
       "       [9.9999857e-01, 1.4224016e-06],\n",
       "       [9.9995887e-01, 4.1116651e-05],\n",
       "       [6.0346383e-01, 3.9653614e-01],\n",
       "       [9.9999988e-01, 1.7836130e-07],\n",
       "       [2.3365027e-01, 7.6634973e-01],\n",
       "       [3.5386381e-01, 6.4613622e-01],\n",
       "       [9.9999940e-01, 5.5323460e-07],\n",
       "       [5.5172287e-02, 9.4482780e-01],\n",
       "       [7.2926126e-02, 9.2707390e-01],\n",
       "       [1.2210686e-01, 8.7789315e-01],\n",
       "       [9.9956781e-01, 4.3212858e-04],\n",
       "       [9.9995732e-01, 4.2680585e-05],\n",
       "       [9.2177391e-02, 9.0782267e-01],\n",
       "       [1.0000000e+00, 1.8944239e-10],\n",
       "       [4.1798297e-02, 9.5820165e-01],\n",
       "       [9.9132395e-01, 8.6760223e-03],\n",
       "       [9.9998212e-01, 1.7853734e-05],\n",
       "       [9.8797150e-02, 9.0120286e-01],\n",
       "       [9.9999607e-01, 3.9009869e-06],\n",
       "       [1.2212489e-01, 8.7787515e-01]], dtype=float32)"
      ]
     },
     "execution_count": 55,
     "metadata": {
      "tags": []
     },
     "output_type": "execute_result"
    }
   ],
   "source": [
    "y_pred"
   ]
  },
  {
   "cell_type": "code",
   "execution_count": null,
   "metadata": {
    "id": "tS0JRzy72JJY"
   },
   "outputs": [],
   "source": [
    "import numpy as np\n",
    "y_pred = np.argmax(y_pred, axis=1)"
   ]
  },
  {
   "cell_type": "code",
   "execution_count": null,
   "metadata": {
    "colab": {
     "base_uri": "https://localhost:8080/"
    },
    "id": "cPgOb47c2OeD",
    "outputId": "62b05530-f5de-46e9-fd09-cc7602f35403"
   },
   "outputs": [
    {
     "data": {
      "text/plain": [
       "array([0, 0, 1, 1, 1, 1, 1, 0, 0, 0, 1, 1, 1, 0, 1, 0, 0, 1, 1, 1, 0, 1,\n",
       "       0, 0, 0, 0, 1, 1, 0, 0, 1, 1, 1, 1, 0, 0, 0, 1, 0, 1, 0, 1, 0, 1,\n",
       "       1, 0, 1, 1, 0, 0, 0, 0, 0, 0, 0, 0, 0, 1, 1, 1, 0, 1, 0, 1, 1, 0,\n",
       "       1, 1, 1, 1, 0, 0, 0, 1, 0, 1, 0, 0, 0, 0, 0, 1, 0, 1, 0, 1, 0, 1,\n",
       "       1, 0, 1, 1, 0, 0, 1, 0, 1, 0, 0, 1, 0, 0, 0, 1, 0, 1, 0, 0, 0, 1,\n",
       "       1, 0, 0, 1, 0, 0, 0, 0, 1, 1, 0, 1, 1, 1, 0, 0, 1, 0, 1, 0, 0, 1,\n",
       "       0, 1])"
      ]
     },
     "execution_count": 57,
     "metadata": {
      "tags": []
     },
     "output_type": "execute_result"
    }
   ],
   "source": [
    "y_pred"
   ]
  },
  {
   "cell_type": "code",
   "execution_count": null,
   "metadata": {
    "id": "Wd_zZNeW35gb"
   },
   "outputs": [],
   "source": []
  },
  {
   "cell_type": "code",
   "execution_count": 61,
   "metadata": {
    "id": "6BNL6VAa2QTk"
   },
   "outputs": [],
   "source": []
  },
  {
   "cell_type": "code",
   "execution_count": null,
   "metadata": {
    "id": "FeQOTEJ-2zMC"
   },
   "outputs": [],
   "source": []
  }
 ],
 "metadata": {
  "accelerator": "GPU",
  "colab": {
   "collapsed_sections": [],
   "name": "Malaria detection.ipynb",
   "provenance": []
  },
  "kernelspec": {
   "display_name": "Python 3",
   "language": "python",
   "name": "python3"
  },
  "language_info": {
   "codemirror_mode": {
    "name": "ipython",
    "version": 3
   },
   "file_extension": ".py",
   "mimetype": "text/x-python",
   "name": "python",
   "nbconvert_exporter": "python",
   "pygments_lexer": "ipython3",
   "version": "3.7.6"
  }
 },
 "nbformat": 4,
 "nbformat_minor": 1
}
